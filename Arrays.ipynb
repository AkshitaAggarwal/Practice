{
  "nbformat": 4,
  "nbformat_minor": 0,
  "metadata": {
    "colab": {
      "name": "Arrays.ipynb",
      "provenance": [],
      "collapsed_sections": [],
      "authorship_tag": "ABX9TyNirnfMQCjiWdaTb0hW2EqT",
      "include_colab_link": true
    },
    "kernelspec": {
      "name": "python3",
      "display_name": "Python 3"
    },
    "language_info": {
      "name": "python"
    }
  },
  "cells": [
    {
      "cell_type": "markdown",
      "metadata": {
        "id": "view-in-github",
        "colab_type": "text"
      },
      "source": [
        "<a href=\"https://colab.research.google.com/github/AkshitaAggarwal/Practice/blob/main/Arrays.ipynb\" target=\"_parent\"><img src=\"https://colab.research.google.com/assets/colab-badge.svg\" alt=\"Open In Colab\"/></a>"
      ]
    },
    {
      "cell_type": "markdown",
      "source": [
        "1.You have been given an array/list(ARR) of size N. \n",
        "You need to swap every pair of consecutive elements in the array/list.\n",
        "You don't need to print or return anything, just change in the input array itself."
      ],
      "metadata": {
        "id": "5Z1Z-n40PKLw"
      }
    },
    {
      "cell_type": "code",
      "execution_count": null,
      "metadata": {
        "colab": {
          "base_uri": "https://localhost:8080/"
        },
        "id": "DPMt34WuOTG5",
        "outputId": "e63e9511-ed2a-49fc-e0ee-0b2d9a242ac8"
      },
      "outputs": [
        {
          "name": "stdout",
          "output_type": "stream",
          "text": [
            "1 2 3 4\n"
          ]
        },
        {
          "output_type": "execute_result",
          "data": {
            "text/plain": [
              "[2, 1, 4, 3]"
            ]
          },
          "metadata": {},
          "execution_count": 1
        }
      ],
      "source": [
        "#Swap consecutive elements\n",
        "def swap(arr):\n",
        "  n = len(arr)\n",
        "  if n == 1:\n",
        "    return arr\n",
        "  if n%2 == 1:\n",
        "    n -= 1\n",
        "  for i in range(0,n,2):\n",
        "    arr[i], arr[i+1] = arr[i+1], arr[i]\n",
        "  return arr\n",
        "\n",
        "arr = [int(x) for x in input().split()]\n",
        "swap(arr)\n",
        "\n"
      ]
    },
    {
      "cell_type": "markdown",
      "source": [
        "2. You have been given an integer array/list(ARR) of size N. Where N is equal to [2M + 1].\n",
        "Now, in the given array/list, 'M' numbers are present twice and one number is present only once.\n",
        "You need to find and return that number which is unique in the array/list.\n"
      ],
      "metadata": {
        "id": "wRroPSNLS8-D"
      }
    },
    {
      "cell_type": "code",
      "source": [
        "# Finding the only unique element in a list\n",
        "def unique(arr):\n",
        "  ele = 0\n",
        "  for x in arr:\n",
        "    ele = x ^ ele                           # xor of a number with itself is 0, and xor of a number with 0 is the number itself\n",
        "  return ele\n",
        "\n",
        "\n",
        "def unique_recursion_by_me(arr):\n",
        "  n = len(arr)\n",
        "  if n == 1:\n",
        "    return arr.pop()\n",
        "  for i in range(1,n):\n",
        "    if arr[0] == arr[i]:\n",
        "      arr.pop(i)\n",
        "      arr.pop(0)\n",
        "      print(arr)\n",
        "      return unique_recursion_by_me(arr)\n",
        "\n",
        "def unique_hashing(arr):\n",
        "  n = len(arr)\n",
        "  dic = {}\n",
        "  for x in arr:\n",
        "    dic[x] = dic.get(x, 0) + 1\n",
        "  for k,v in dic.items():\n",
        "    if v == 1:\n",
        "      print(k)\n",
        "\n",
        "def  unique_set(arr):\n",
        "  return  2*sum(set(arr))- sum(arr) \n",
        "\n",
        "arr = [int(x) for x in input().split()]\n",
        "arr = [2, 4, 4, 3, 2, 5, 3]\n",
        "unique_set(arr)\n",
        "\n",
        "\n",
        "  "
      ],
      "metadata": {
        "id": "fOHHNxDvSgNA",
        "colab": {
          "base_uri": "https://localhost:8080/"
        },
        "outputId": "f7965904-8e39-4bde-9217-5f7d071b19cc"
      },
      "execution_count": null,
      "outputs": [
        {
          "output_type": "execute_result",
          "data": {
            "text/plain": [
              "5"
            ]
          },
          "metadata": {},
          "execution_count": 17
        }
      ]
    },
    {
      "cell_type": "markdown",
      "source": [
        "3. You have been given an integer array/list(ARR) of size N which contains numbers from 0 to (N - 2). \n",
        "Each number is present at least once.\n",
        "That is, if N = 5, the array/list constitutes values ranging from 0 to 3 and among these,\n",
        "there is a single integer value that is present twice. \n",
        "You need to find and return that duplicate number present in the array.\n"
      ],
      "metadata": {
        "id": "LDSIVUKrDdHf"
      }
    },
    {
      "cell_type": "code",
      "source": [
        "#finding duplicate\n",
        "def duplicate_by_me(arr):\n",
        "  n = len(arr)\n",
        "  array = []\n",
        "  for i in arr:\n",
        "    if i not in array:\n",
        "      array.append(i)\n",
        "    else:\n",
        "      return i\n",
        "\n",
        "def duplicate_by_sorting(arr):\n",
        "  n = len(arr)\n",
        "  arr.sort()\n",
        "  for i in range(n-1):\n",
        "    if arr[i] == arr[i+1]:\n",
        "      return arr[i]\n",
        "\n",
        "arr = [1,0,3,2,4,3]\n",
        "duplicate_by_sorting(arr)\n"
      ],
      "metadata": {
        "id": "OPSUnkoNDMGj",
        "colab": {
          "base_uri": "https://localhost:8080/"
        },
        "outputId": "f8a42667-cb2d-4f98-e9fa-c97203da46aa"
      },
      "execution_count": null,
      "outputs": [
        {
          "output_type": "execute_result",
          "data": {
            "text/plain": [
              "3"
            ]
          },
          "metadata": {},
          "execution_count": 3
        }
      ]
    },
    {
      "cell_type": "markdown",
      "source": [
        "4. You have been given two integer arrays/list(ARR1 and ARR2) of size M and N, respectively.\n",
        "You need to print their intersection; \n",
        "An intersection for this problem can be defined when both the arrays/lists contain a particular value or to put it in other words, \n",
        "when there is a common value that exists in both the arrays/lists.\n",
        "Input arrays/lists can contain duplicate elements.\n",
        "The intersection elements printed would be in the order they appear in the first array/list(ARR1)\n"
      ],
      "metadata": {
        "id": "DbqjTpmlMgQ6"
      }
    },
    {
      "cell_type": "code",
      "source": [
        "#finding intersection(common values) of 2 arrays\n",
        "def intersection(arr1,arr2):\n",
        "  arr = []\n",
        "  for i in arr1:\n",
        "    if i in arr2:\n",
        "      arr.append(i)\n",
        "      arr2.remove(i)\n",
        "  return arr\n",
        "\n",
        "arr1 = [1, 2, 3, 4, 3]\n",
        "arr2 = [1, 2, 3, 4, 5, 3]\n",
        "intersection(arr1,arr2)"
      ],
      "metadata": {
        "colab": {
          "base_uri": "https://localhost:8080/"
        },
        "id": "QCVgfGb-PPaO",
        "outputId": "e488c4af-c693-4b3a-aaf1-5d886baa9cdd"
      },
      "execution_count": null,
      "outputs": [
        {
          "output_type": "execute_result",
          "data": {
            "text/plain": [
              "[1, 2, 3, 4, 3]"
            ]
          },
          "metadata": {},
          "execution_count": 7
        }
      ]
    },
    {
      "cell_type": "markdown",
      "source": [
        "5. You have been given an integer array/list(ARR) and a number X.\n",
        "Find and return the total number of pairs in the array/list which sum to X.\n",
        "\n",
        "Note:\n",
        "Given array/list can contain duplicate elements."
      ],
      "metadata": {
        "id": "jIax_rkBlvuU"
      }
    },
    {
      "cell_type": "code",
      "source": [
        "def pair_sum(arr,x):\n",
        "  n = len(arr)\n",
        "  count = 0\n",
        "  for i in range(n-1):\n",
        "    for j in range(i+1,n):\n",
        "      if arr[i] + arr[j] == x:\n",
        "        count+=1\n",
        "  return count\n",
        "\n",
        "arr = [1, 3, 6, 2, 5, 4, 3, 2, 4]\n",
        "pair_sum(arr, 7)"
      ],
      "metadata": {
        "colab": {
          "base_uri": "https://localhost:8080/"
        },
        "id": "ouVXWDdnpPfB",
        "outputId": "27cedd22-d6cc-4aff-9cbb-3ce0d629cccf"
      },
      "execution_count": null,
      "outputs": [
        {
          "output_type": "execute_result",
          "data": {
            "text/plain": [
              "7"
            ]
          },
          "metadata": {},
          "execution_count": 8
        }
      ]
    },
    {
      "cell_type": "markdown",
      "source": [
        "6. You have been given a random integer array/list(ARR) and a number X.\n",
        "Find and return the triplet(s) in the array/list which sum to X.\n",
        "\n",
        "Note :\n",
        "Given array/list can contain duplicate elements.\n"
      ],
      "metadata": {
        "id": "aMF7-TZGl1lF"
      }
    },
    {
      "cell_type": "code",
      "source": [
        "def triplet_sum(arr, x):\n",
        "  n = len(arr)\n",
        "  for i in range(n-2):\n",
        "    for j in range(i+1,n-1):\n",
        "      for k in range(j+1,n):\n",
        "        if arr[i] + arr[j] + arr[k] == x:\n",
        "          print(arr[i],arr[j],arr[k])\n",
        "  return\n",
        "\n",
        "arr = [1, 2, 3, 4, 5, 6, 7]\n",
        "triplet_sum(arr,12)\n"
      ],
      "metadata": {
        "colab": {
          "base_uri": "https://localhost:8080/"
        },
        "id": "q47w_yr9yAOK",
        "outputId": "fc190c51-4f80-4aec-c648-9b47ed3626ad"
      },
      "execution_count": null,
      "outputs": [
        {
          "output_type": "stream",
          "name": "stdout",
          "text": [
            "1 4 7\n",
            "1 5 6\n",
            "2 3 7\n",
            "2 4 6\n",
            "3 4 5\n"
          ]
        }
      ]
    },
    {
      "cell_type": "code",
      "source": [
        "#find pythagorean triplet in a given array\n",
        "def pythagorean_triplet(arr, x):\n",
        "  n = len(arr)\n",
        "  for i in range(n-1):\n",
        "    for j in range(i+1,n):\n",
        "        if arr[i]**2 + arr[j]**2 == x:\n",
        "          print(arr[i],arr[j])\n",
        "  return\n",
        "\n",
        "arr = [1, 2, 3, 4, 5, 6, 7]\n",
        "pythagorean_triplet(arr, 25)\n",
        "    "
      ],
      "metadata": {
        "id": "xgbK3oY7DbRn",
        "colab": {
          "base_uri": "https://localhost:8080/"
        },
        "outputId": "85c0786a-dbfc-4440-a5c5-394d2c2397c1"
      },
      "execution_count": null,
      "outputs": [
        {
          "output_type": "stream",
          "name": "stdout",
          "text": [
            "3 4\n"
          ]
        }
      ]
    },
    {
      "cell_type": "markdown",
      "source": [
        "7. You have been given an integer array/list(ARR) of size N that contains only integers, 0 and 1.\n",
        "Write a function to sort this array/list.\n",
        "Think of a solution which scans the array/list only once and don't require use of an extra array/list.\n",
        "\n",
        "Note:\n",
        "You need to change in the given array/list itself. Hence, no need to return or print anything.\n"
      ],
      "metadata": {
        "id": "TNa0HPdyl8bx"
      }
    },
    {
      "cell_type": "code",
      "source": [
        "def sort0_1(arr):\n",
        "  count0 = 0\n",
        "  count1 = 0\n",
        "  for i in arr:\n",
        "    if i == 0:\n",
        "      count0 += 1\n",
        "    else:\n",
        "      count1 += 1\n",
        "  arr = []\n",
        "  for i in range(count0):\n",
        "    arr.append(0)\n",
        "  for i in range(count1):\n",
        "    arr.append(1)\n",
        "  return arr\n",
        "\n",
        "\n",
        "arr = [1,1,0,1]\n",
        "sort0_1(arr)\n",
        "\n"
      ],
      "metadata": {
        "colab": {
          "base_uri": "https://localhost:8080/"
        },
        "id": "UgdEw437wOdB",
        "outputId": "c02b443c-fb1d-4e82-89aa-81e4453d7156"
      },
      "execution_count": null,
      "outputs": [
        {
          "output_type": "execute_result",
          "data": {
            "text/plain": [
              "[0, 1, 1, 1]"
            ]
          },
          "metadata": {},
          "execution_count": 2
        }
      ]
    },
    {
      "cell_type": "markdown",
      "source": [
        "8. Write a function to return minimum and maximum in an array. Your program should make the minimum number of comparisons. "
      ],
      "metadata": {
        "id": "p1qilSuWP9fs"
      }
    },
    {
      "cell_type": "code",
      "source": [
        "def min_max(arr):\n",
        "  min = arr[0]\n",
        "  max = arr[0]\n",
        "  for i in arr:\n",
        "    if i > max:\n",
        "      max = i\n",
        "    if i < min:\n",
        "      min = i\n",
        "  return min,max\n",
        "\n",
        "arr = [1]\n",
        "min_max(arr)"
      ],
      "metadata": {
        "colab": {
          "base_uri": "https://localhost:8080/"
        },
        "id": "OnFvVasrP5_G",
        "outputId": "f137f859-ad52-4fab-fe9e-3b14049f9df9"
      },
      "execution_count": null,
      "outputs": [
        {
          "output_type": "execute_result",
          "data": {
            "text/plain": [
              "(1, 1)"
            ]
          },
          "metadata": {},
          "execution_count": 3
        }
      ]
    },
    {
      "cell_type": "markdown",
      "source": [
        "9. Given an array (or string), the task is to reverse the array/string."
      ],
      "metadata": {
        "id": "eu5b3IwbRRb8"
      }
    },
    {
      "cell_type": "code",
      "source": [
        "def reverse(arr):\n",
        "  return arr[::-1]\n",
        "\n",
        "arr = [1,2,3]\n",
        "reverse(arr)\n"
      ],
      "metadata": {
        "colab": {
          "base_uri": "https://localhost:8080/"
        },
        "id": "8X_5-DXTROTo",
        "outputId": "3a0a3e5b-7e74-44e4-fcb6-f16bf7a7b1b3"
      },
      "execution_count": null,
      "outputs": [
        {
          "output_type": "execute_result",
          "data": {
            "text/plain": [
              "[3, 2, 1]"
            ]
          },
          "metadata": {},
          "execution_count": 10
        }
      ]
    },
    {
      "cell_type": "markdown",
      "source": [
        "10. **Given** an integer array nums, find the contiguous subarray (containing at least one number) which has the largest sum and return its sum.\n",
        "\n",
        "A subarray is a contiguous part of an array.\n",
        "\n",
        " "
      ],
      "metadata": {
        "id": "Ll2e4R2_Sjrp"
      }
    },
    {
      "cell_type": "code",
      "source": [
        "import sys\n",
        "def max_subarray(arr):  #brute force- time complexity --> O(n^2)\n",
        "  n = len(arr)\n",
        "  max_sum = arr[0]\n",
        "  for i in range(n-1):\n",
        "    summ = arr[i]\n",
        "    for j in range(i+1,n):\n",
        "      summ = summ + arr[j]\n",
        "      if summ > max_sum:\n",
        "        max_sum = summ\n",
        "  return max_sum\n",
        "\n",
        "def kadane_sol(arr):       # time complexity --> O(n), does not work if all the values of array are -ve\n",
        "  n = len(arr)\n",
        "  max_so_far = arr[0]\n",
        "  max_ending_here = 0\n",
        "  for i in range(n):\n",
        "    max_ending_here = max_ending_here + arr[i]\n",
        "    if max_so_far < max_ending_here:\n",
        "      max_so_far = max_ending_here\n",
        "    if max_ending_here < 0:\n",
        "      max_ending_here = 0\n",
        "  return max_so_far\n",
        "\n",
        "def kadane(arr):\n",
        "  n = len(arr)\n",
        "  sum = 0\n",
        "  max_sum = -(sys.maxsize)\n",
        "  for i in range(n):\n",
        "    sum = sum + arr[i]\n",
        "    if sum > max_sum:\n",
        "      max_sum = sum\n",
        "    if sum < 0:\n",
        "      sum = 0\n",
        "  return max_sum\n",
        "arr = [-2, -3, 4, -1, -2, 1, 5, -3]\n",
        "# max_subarray(arr)\n",
        "kadane(arr)\n",
        "    "
      ],
      "metadata": {
        "id": "QxhjRn4vSkkM",
        "colab": {
          "base_uri": "https://localhost:8080/"
        },
        "outputId": "0d1477a6-8e67-4839-8c2c-58f275954161"
      },
      "execution_count": null,
      "outputs": [
        {
          "output_type": "execute_result",
          "data": {
            "text/plain": [
              "7"
            ]
          },
          "metadata": {},
          "execution_count": 2
        }
      ]
    },
    {
      "cell_type": "markdown",
      "source": [
        "11. Given an array of n integers where each value represents the number of chocolates in a packet. Each packet can have a variable number of chocolates. There are m students, the task is to distribute chocolate packets such that: \n",
        "\n",
        "Each student gets one packet.\n",
        "The difference between the number of chocolates in the packet with maximum chocolates and packet with minimum chocolates given to the students is minimum."
      ],
      "metadata": {
        "id": "ZzX2ZCYDPsAQ"
      }
    },
    {
      "cell_type": "code",
      "source": [
        "import sys\n",
        "def chocolate(arr, m):\n",
        "  n = len(arr)\n",
        "  arr.sort()\n",
        "  min_diff = sys.maxsize\n",
        "  for i in range(n-m+1):\n",
        "    diff = arr[i+(m-1)] - arr[i]\n",
        "    if diff < min_diff:\n",
        "      min_diff = diff\n",
        "  return min_diff \n",
        "\n",
        "\n",
        "arr = [12, 4, 7, 9, 2, 23, 25, 41, 30, 40, 28, 42, 30, 44, 48, 43, 50]\n",
        "chocolate(arr,7)"
      ],
      "metadata": {
        "colab": {
          "base_uri": "https://localhost:8080/"
        },
        "id": "Tx4BeyKDPitt",
        "outputId": "b49f1213-06c9-4032-9737-7b86fa6b3732"
      },
      "execution_count": null,
      "outputs": [
        {
          "output_type": "execute_result",
          "data": {
            "text/plain": [
              "10"
            ]
          },
          "metadata": {},
          "execution_count": 9
        }
      ]
    },
    {
      "cell_type": "markdown",
      "source": [
        "12. An element in a sorted array can be found in O(log n) time via binary search. But suppose we rotate an ascending order sorted array at some pivot unknown to you beforehand. So for instance, 1 2 3 4 5 might become 3 4 5 1 2. Devise a way to find an element in the rotated array in O(log n) time.\n",
        "\n"
      ],
      "metadata": {
        "id": "HNj4bMZKaK3q"
      }
    },
    {
      "cell_type": "code",
      "source": [
        "def pivoted_array(arr,k):\n",
        "  n = len(arr)\n",
        "  for i in range(n-1):\n",
        "    if arr[i] > arr[i+1]:\n",
        "      arr1 = arr[:i+1]\n",
        "      arr2 = arr[i+1:]\n",
        "    \n",
        "  return arr1,arr2\n",
        "\n",
        "def binary_search(arr,k):\n",
        "\n",
        "\n",
        "arr = [5, 6, 7, 8, 9, 10, 1, 2, 3]\n",
        "pivoted_array(arr)"
      ],
      "metadata": {
        "id": "vS2NJi46aKZ0",
        "colab": {
          "base_uri": "https://localhost:8080/"
        },
        "outputId": "86b6d82c-390b-4977-abf2-15eee4f13c39"
      },
      "execution_count": null,
      "outputs": [
        {
          "output_type": "execute_result",
          "data": {
            "text/plain": [
              "([5, 6, 7, 8, 9, 10], [1, 2, 3])"
            ]
          },
          "metadata": {},
          "execution_count": 4
        }
      ]
    },
    {
      "cell_type": "markdown",
      "source": [
        "13. A permutation of an array of integers is an arrangement of its members into a sequence or linear order.\n",
        "\n",
        "For example, for arr = [1,2,3], the following are considered permutations of arr: [1,2,3], [1,3,2], [3,1,2], [2,3,1].\n",
        "The next permutation of an array of integers is the next lexicographically greater permutation of its integer. More formally, if all the permutations of the array are sorted in one container according to their lexicographical order, then the next permutation of that array is the permutation that follows it in the sorted container. If such arrangement is not possible, the array must be rearranged as the lowest possible order (i.e., sorted in ascending order).\n",
        "\n",
        "For example, the next permutation of arr = [1,2,3] is [1,3,2].\n",
        "Similarly, the next permutation of arr = [2,3,1] is [3,1,2].\n",
        "While the next permutation of arr = [3,2,1] is [1,2,3] because [3,2,1] does not have a lexicographical larger rearrangement.\n",
        "Given an array of integers nums, find the next permutation of nums.\n",
        "\n",
        "The replacement must be in place and use only constant extra memory."
      ],
      "metadata": {
        "id": "I-jRjNt7IyW1"
      }
    },
    {
      "cell_type": "code",
      "source": [
        "def next_permutation(arr):\n",
        "  n = len(arr)\n",
        "  if n==0 or n==1:\n",
        "    return n\n",
        "  for i in range(n-2,-1,-1):\n",
        "    if arr[i] < arr[i+1]:\n",
        "      idx1 = i\n",
        "      break\n",
        "    return arr[::-1]\n",
        "  for i in range(n-1,-1,-1):       #finding the next big integer \n",
        "    if arr[i] > arr[idx1]:\n",
        "      idx2 = i\n",
        "      break\n",
        "  arr[idx1], arr[idx2] = arr[idx2], arr[idx1]\n",
        "  return arr[:idx1+1] + arr[:idx1:-1]\n",
        "\n",
        "arr = [3,2,1]\n",
        "next_permutation(arr)"
      ],
      "metadata": {
        "colab": {
          "base_uri": "https://localhost:8080/"
        },
        "id": "Qtuq6TMBIhLj",
        "outputId": "6492ab97-7585-4469-8505-c52699e5e9ca"
      },
      "execution_count": 20,
      "outputs": [
        {
          "output_type": "execute_result",
          "data": {
            "text/plain": [
              "[1, 2, 3]"
            ]
          },
          "metadata": {},
          "execution_count": 20
        }
      ]
    }
  ]
}