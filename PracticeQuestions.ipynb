{
  "nbformat": 4,
  "nbformat_minor": 0,
  "metadata": {
    "colab": {
      "name": "PracticeQuestions.ipynb",
      "provenance": [],
      "include_colab_link": true
    },
    "kernelspec": {
      "name": "python3",
      "display_name": "Python 3"
    },
    "language_info": {
      "name": "python"
    }
  },
  "cells": [
    {
      "cell_type": "markdown",
      "metadata": {
        "id": "view-in-github",
        "colab_type": "text"
      },
      "source": [
        "<a href=\"https://colab.research.google.com/github/AkshitaAggarwal/Practice/blob/main/PracticeQuestions.ipynb\" target=\"_parent\"><img src=\"https://colab.research.google.com/assets/colab-badge.svg\" alt=\"Open In Colab\"/></a>"
      ]
    },
    {
      "cell_type": "markdown",
      "metadata": {
        "id": "GeX_-euNOJjN"
      },
      "source": [
        "Write a program, which will find all such numbers between 1000 and 3000 (both included) such that each digit of the number is an even number.\n",
        "The numbers obtained should be printed in a comma-separated sequence on a single line.\n",
        "\n",
        "Hints:\n",
        "In case of input data being supplied to the question, it should be assumed to be a console input."
      ]
    },
    {
      "cell_type": "code",
      "metadata": {
        "id": "i8vOTIEROKAU",
        "colab": {
          "base_uri": "https://localhost:8080/"
        },
        "outputId": "f3af962a-02dc-4011-bc01-420585386c80"
      },
      "source": [
        "list = []\n",
        "for number in range(1000,3001):\n",
        "  s = str(number)\n",
        "  if (int(s[0])%2==0) and (int(s[1])%2==0) and (int(s[2])%2==0) and (int(s[3])%2==0):\n",
        "    list.append(s)\n",
        "print(\",\".join(list))\n",
        "\n"
      ],
      "execution_count": null,
      "outputs": [
        {
          "output_type": "stream",
          "text": [
            "2000,2002,2004,2006,2008,2020,2022,2024,2026,2028,2040,2042,2044,2046,2048,2060,2062,2064,2066,2068,2080,2082,2084,2086,2088,2200,2202,2204,2206,2208,2220,2222,2224,2226,2228,2240,2242,2244,2246,2248,2260,2262,2264,2266,2268,2280,2282,2284,2286,2288,2400,2402,2404,2406,2408,2420,2422,2424,2426,2428,2440,2442,2444,2446,2448,2460,2462,2464,2466,2468,2480,2482,2484,2486,2488,2600,2602,2604,2606,2608,2620,2622,2624,2626,2628,2640,2642,2644,2646,2648,2660,2662,2664,2666,2668,2680,2682,2684,2686,2688,2800,2802,2804,2806,2808,2820,2822,2824,2826,2828,2840,2842,2844,2846,2848,2860,2862,2864,2866,2868,2880,2882,2884,2886,2888\n"
          ],
          "name": "stdout"
        }
      ]
    },
    {
      "cell_type": "code",
      "metadata": {
        "id": "hwoNNBRuOK3L"
      },
      "source": [
        ""
      ],
      "execution_count": null,
      "outputs": []
    },
    {
      "cell_type": "markdown",
      "metadata": {
        "id": "LzbWXijROLKB"
      },
      "source": [
        "Write a program that accepts a sentence and calculate the number of letters and digits.\n",
        "\n",
        "Suppose the following input is supplied to the program:\n",
        "\n",
        "hello world! 123\n",
        "\n",
        "Then, the output should be:\n",
        "LETTERS 10\n",
        "DIGITS 3\n",
        "\n",
        "Hints:\n",
        "In case of input data being supplied to the question, it should be assumed to be a console input.\n"
      ]
    },
    {
      "cell_type": "code",
      "metadata": {
        "id": "fjjDN5r2OP7i",
        "colab": {
          "base_uri": "https://localhost:8080/"
        },
        "outputId": "870ac9c8-9285-450a-eda0-0bbc21eb281d"
      },
      "source": [
        "letters = []\n",
        "digits = []\n",
        "sentence = input(\"enter the sentence \")\n",
        "for word in sentence:\n",
        "  if word.isdigit():\n",
        "    digits.append(word)\n",
        "  elif word.isalpha():\n",
        "    letters.append(word)\n",
        "  else:\n",
        "    pass\n",
        "print(\"LETTERS: \"+ str(len(letters)))\n",
        "print(\"DIGITS: \"+ str(len(digits)))\n",
        "\n",
        "\n",
        " "
      ],
      "execution_count": null,
      "outputs": [
        {
          "output_type": "stream",
          "text": [
            "enter the sentencehello baby\n",
            "LETTERS: 9\n",
            "DIGITS: 0\n"
          ],
          "name": "stdout"
        }
      ]
    }
  ]
}