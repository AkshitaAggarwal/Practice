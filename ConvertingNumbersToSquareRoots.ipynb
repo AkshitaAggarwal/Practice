{
  "nbformat": 4,
  "nbformat_minor": 0,
  "metadata": {
    "colab": {
      "name": "Untitled0.ipynb",
      "provenance": [],
      "collapsed_sections": [],
      "include_colab_link": true
    },
    "kernelspec": {
      "name": "python3",
      "display_name": "Python 3"
    },
    "language_info": {
      "name": "python"
    }
  },
  "cells": [
    {
      "cell_type": "markdown",
      "metadata": {
        "id": "view-in-github",
        "colab_type": "text"
      },
      "source": [
        "<a href=\"https://colab.research.google.com/github/AkshitaAggarwal/Practice/blob/main/ConvertingNumbersToSquareRoots.ipynb\" target=\"_parent\"><img src=\"https://colab.research.google.com/assets/colab-badge.svg\" alt=\"Open In Colab\"/></a>"
      ]
    },
    {
      "cell_type": "markdown",
      "metadata": {
        "id": "eGRYJCEt3Zmq"
      },
      "source": [
        "# Take a list input and convert the list into square root of each element"
      ]
    },
    {
      "cell_type": "code",
      "metadata": {
        "id": "HenCrZV85PKZ",
        "outputId": "322d656b-6875-4731-bbc3-79e9663730ed",
        "colab": {
          "base_uri": "https://localhost:8080/"
        }
      },
      "source": [
        "#your code here\n",
        "import math\n",
        "def convert(x):\n",
        "  x = int(x)\n",
        "  x = math.sqrt(x)\n",
        "  return x\n",
        "\n",
        "lst = list(map(convert,input().split()))\n",
        "\n",
        "print(lst)"
      ],
      "execution_count": 3,
      "outputs": [
        {
          "output_type": "stream",
          "text": [
            "4 16 25\n",
            "[2.0, 4.0, 5.0]\n"
          ],
          "name": "stdout"
        }
      ]
    },
    {
      "cell_type": "markdown",
      "metadata": {
        "id": "oMwaqoQ-5RtR"
      },
      "source": [
        "**Double click here for solution\n",
        "<!--\n",
        "import math\n",
        "def convert(x):\n",
        "  x=int(x)\n",
        "  x=math.sqrt(x)\n",
        "  return x\n",
        "\n",
        "lst=list(map(convert,input().split()))\n",
        "\n",
        "\n",
        "print(lst)\n",
        "\n",
        "-->"
      ]
    }
  ]
}