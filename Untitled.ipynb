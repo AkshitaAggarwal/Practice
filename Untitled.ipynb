{
 "cells": [
  {
   "cell_type": "markdown",
   "id": "8377edff-e4a0-4e72-bda1-3b6e81b815b6",
   "metadata": {},
   "source": [
    "### Linked List Node"
   ]
  },
  {
   "cell_type": "code",
   "execution_count": 10,
   "id": "9af42858-0549-48dd-9057-48370dc8b32a",
   "metadata": {},
   "outputs": [
    {
     "name": "stdout",
     "output_type": "stream",
     "text": [
      "<__main__.Node object at 0x000001E4696C7710> <__main__.Node object at 0x000001E4696C5B10>\n",
      "13 15\n",
      "<__main__.Node object at 0x000001E4696C5B10> None\n",
      "15\n"
     ]
    }
   ],
   "source": [
    "class Node:\n",
    "    def __init__(self, data):\n",
    "        self.data = data\n",
    "        self.next = None\n",
    "\n",
    "a = Node(13)\n",
    "b = Node(15)\n",
    "print(a,b)\n",
    "print(a.data,b.data)\n",
    "a.next = b\n",
    "print(a.next,b.next)\n",
    "print(a.next.data)"
   ]
  },
  {
   "cell_type": "markdown",
   "id": "d5bc561f-2f4d-4781-8728-331de3d0b14c",
   "metadata": {},
   "source": [
    "### Forming Linked List"
   ]
  },
  {
   "cell_type": "code",
   "execution_count": 18,
   "id": "d22720d5-fa1e-40d6-9dc6-85880c8baed2",
   "metadata": {},
   "outputs": [
    {
     "name": "stdin",
     "output_type": "stream",
     "text": [
      " 2 3 4 5\n"
     ]
    },
    {
     "name": "stdout",
     "output_type": "stream",
     "text": [
      "2\n"
     ]
    }
   ],
   "source": [
    "def takeInput():\n",
    "    l = list(map(int,input().split()))\n",
    "    head = None\n",
    "    for currData in l:\n",
    "        if currData == -1:\n",
    "            break\n",
    "        newNode = Node(currData)\n",
    "        if head is None:\n",
    "            head = newNode\n",
    "        else:\n",
    "            curr = head\n",
    "            while curr.next is not None:\n",
    "                curr = curr.next\n",
    "            curr.next = newNode\n",
    "    return head\n",
    "head = takeInput()\n",
    "print(head.data)"
   ]
  },
  {
   "cell_type": "code",
   "execution_count": null,
   "id": "ba2414ef-63d3-40c5-a02b-0ea5512ff21a",
   "metadata": {},
   "outputs": [],
   "source": []
  }
 ],
 "metadata": {
  "kernelspec": {
   "display_name": "Python 3 (ipykernel)",
   "language": "python",
   "name": "python3"
  },
  "language_info": {
   "codemirror_mode": {
    "name": "ipython",
    "version": 3
   },
   "file_extension": ".py",
   "mimetype": "text/x-python",
   "name": "python",
   "nbconvert_exporter": "python",
   "pygments_lexer": "ipython3",
   "version": "3.11.4"
  }
 },
 "nbformat": 4,
 "nbformat_minor": 5
}
